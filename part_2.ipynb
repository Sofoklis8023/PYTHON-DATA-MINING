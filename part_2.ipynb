{
 "cells": [
  {
   "cell_type": "code",
   "execution_count": 1,
   "id": "d4e94733-b274-4302-889d-0a23ad55ed8a",
   "metadata": {},
   "outputs": [],
   "source": [
    "import pandas as pd\n",
    "import re\n",
    "import string\n",
    "from transformers import pipeline\n",
    "from transformers import AutoTokenizer,AutoModelForSequenceClassification\n",
    "from sklearn.feature_extraction.text import ENGLISH_STOP_WORDS"
   ]
  },
  {
   "cell_type": "code",
   "execution_count": 4,
   "id": "ee35af4f-29c7-4aad-9233-8c2f58432bc1",
   "metadata": {},
   "outputs": [
    {
     "name": "stderr",
     "output_type": "stream",
     "text": [
      "C:\\Users\\giorg\\AppData\\Local\\Programs\\Python\\Python311\\Lib\\site-packages\\huggingface_hub\\file_download.py:1132: FutureWarning: `resume_download` is deprecated and will be removed in version 1.0.0. Downloads always resume when possible. If you want to force a new download, use `force_download=True`.\n",
      "  warnings.warn(\n"
     ]
    }
   ],
   "source": [
    "#Αρχικοποίηση του μοντέλου \"cardiffnlp/twitter-roberta-base-sentiment\" για την ανάλυση συναισθημάτων.\n",
    "model_name = \"cardiffnlp/twitter-roberta-base-sentiment\"\n",
    "model = AutoModelForSequenceClassification.from_pretrained(model_name)\n",
    "tokenizer = AutoTokenizer.from_pretrained(model_name)\n",
    "classifier = pipeline(\"sentiment-analysis\",model=model, tokenizer=tokenizer)\n",
    "\n",
    "\n",
    "\n",
    "# Φόρτωση δεδομένων\n",
    "data = pd.read_csv('train_2019')\n",
    "data23 = pd.read_csv('train_2023')\n"
   ]
  },
  {
   "cell_type": "code",
   "execution_count": 5,
   "id": "55666f9e-de6c-4a05-8e89-6fe1a69a68d6",
   "metadata": {},
   "outputs": [],
   "source": [
    "# Συνάρτηση για την προεπεξεργασία δεδομένων\n",
    "def preprocess_text(text):\n",
    "    text = text.lower()  # μετατροπή σε μικρούς χαρακτήρες\n",
    "    text = re.sub(r'https?://\\S+|www\\.\\S+', '', text)  # αφαίρεση links\n",
    "    text = re.sub(r'[^\\w\\s]', '', text)  # αφαίρεση σημείων στίξης\n",
    "    text = re.sub(r'[^\\x00-\\x7F]+', '', text).strip()  # αφαίρεση μη λατινικών χαρακτήρων (π.χ. κινεζικά)\n",
    "    text = re.sub(r'\\s+', ' ', text).strip()  # αφαίρεση επιπλέον κενών\n",
    "\n",
    "\n",
    "    return text\n",
    "\n",
    "# Αφαίρεση των stop words από τη στήλη comments\n",
    "data['comments'] = data['comments'].apply(preprocess_text)\n",
    "data['comments'] = data['comments'].apply(lambda x: ' '.join([word for word in x.split() if word.lower() not in ENGLISH_STOP_WORDS]))\n",
    "\n",
    "\n",
    "# Μετατρέπουμε την στήλη σε strings\n",
    "data23['comments'] = data23['comments'].astype(str)\n",
    "#\n",
    "# # Αφαίρεση των stop words από τη στήλη description\n",
    "data23['comments'] = data23['comments'].apply(preprocess_text)\n",
    "data23['comments'] = data23['comments'].apply(lambda x: ' '.join([word for word in x.split() if word.lower() not in ENGLISH_STOP_WORDS]))\n",
    "\n",
    "# Φιλτράρισμα των δεδομένων βάσει του μήκους του σχολίου ('comments')\n",
    "data_filtered23 = data23[data23['comments'].str.len() <= 500]\n",
    "\n",
    "#Eπιλογή 2000 τυχαίων δεδομένων απο το αρχείο train_2019\n",
    "selected_columns = data.sample(n=2000, axis=0)\n",
    "#Eπιλογή 2000 τυχαίων δεδομένων απο το αρχείο train_2023\n",
    "selected_columns23 = data_filtered23.sample(n=2000, random_state=42)\n",
    "\n",
    "# Διαγραφή των γραμμών με κενή τιμή στη στήλη 'comments'\n",
    "selected_columns.dropna(subset=['comments'], inplace=True)\n",
    "selected_columns23.dropna(subset=['comments'], inplace=True)"
   ]
  },
  {
   "cell_type": "code",
   "execution_count": 6,
   "id": "a11deabb-54a4-4e3f-ac45-b6173d806f8c",
   "metadata": {},
   "outputs": [
    {
     "name": "stdout",
     "output_type": "stream",
     "text": [
      "Done!\n",
      "Data for 2019 done!\n",
      "Data for 2023 done!\n",
      "Done\n"
     ]
    }
   ],
   "source": [
    "print(\"Done!\")\n",
    "# Εκτέλεση ανάλυσης συναισθήματος και αποθήκευση αποτελεσμάτων\n",
    "results = []\n",
    "results23 = []\n",
    "\n",
    "# Εκτύπωσε τις στήλες \"id\" και \"comment\" παράλληλα\n",
    "for index, row in selected_columns.iterrows():\n",
    "    sentiment = classifier(row['comments'])\n",
    "\n",
    "    results.append({\n",
    "        'id': row['id'],\n",
    "        'review': row['comments'],\n",
    "        'sentiment': sentiment[0]['label']\n",
    "    })\n",
    "\n",
    "print(\"Data for 2019 done!\")\n",
    "\n",
    "for index, row in selected_columns23.iterrows():\n",
    "    sentiment = classifier(row['comments'])\n",
    "\n",
    "    results23.append({\n",
    "        'id': row['id'],\n",
    "        'review': row['comments'],\n",
    "        'sentiment': sentiment[0]['label']\n",
    "    })\n",
    "\n",
    "print(\"Data for 2023 done!\")\n",
    "\n",
    "results_df = pd.DataFrame(results)\n",
    "results23_df = pd.DataFrame(results23)\n",
    "print(\"Done\")"
   ]
  },
  {
   "cell_type": "code",
   "execution_count": 7,
   "id": "3a88b8e6-93d1-464a-a27b-679318f3d4a7",
   "metadata": {},
   "outputs": [],
   "source": [
    "# Αποθήκευση των αποτελεσμάτων σε CSV αρχείο\n",
    "results_df.to_csv('reviews_with_sentiment.csv', index=False)\n",
    "results23_df.to_csv('reviews_with_sentiment1.csv', index=False)"
   ]
  },
  {
   "cell_type": "code",
   "execution_count": 8,
   "id": "378ed706-dcd5-4a99-a6b8-fc0207df41a1",
   "metadata": {},
   "outputs": [
    {
     "name": "stdout",
     "output_type": "stream",
     "text": [
      "Done.\n"
     ]
    },
    {
     "name": "stderr",
     "output_type": "stream",
     "text": [
      "C:\\Users\\giorg\\AppData\\Local\\Temp\\ipykernel_10760\\462035416.py:8: FutureWarning: A value is trying to be set on a copy of a DataFrame or Series through chained assignment using an inplace method.\n",
      "The behavior will change in pandas 3.0. This inplace method will never work because the intermediate object on which we are setting values always behaves as a copy.\n",
      "\n",
      "For example, when doing 'df[col].method(value, inplace=True)', try using 'df.method({col: value}, inplace=True)' or df[col] = df[col].method(value) instead, to perform the operation inplace on the original object.\n",
      "\n",
      "\n",
      "  data2019['review'].fillna('', inplace=True)\n",
      "C:\\Users\\giorg\\AppData\\Local\\Temp\\ipykernel_10760\\462035416.py:9: FutureWarning: A value is trying to be set on a copy of a DataFrame or Series through chained assignment using an inplace method.\n",
      "The behavior will change in pandas 3.0. This inplace method will never work because the intermediate object on which we are setting values always behaves as a copy.\n",
      "\n",
      "For example, when doing 'df[col].method(value, inplace=True)', try using 'df.method({col: value}, inplace=True)' or df[col] = df[col].method(value) instead, to perform the operation inplace on the original object.\n",
      "\n",
      "\n",
      "  data2023['review'].fillna('', inplace=True)\n"
     ]
    }
   ],
   "source": [
    "import pandas as pd\n",
    "import re\n",
    "\n",
    "\n",
    "data2019 = pd.read_csv('reviews_with_sentiment.csv')\n",
    "data2023 = pd.read_csv('reviews_with_sentiment1.csv')\n",
    "# Αντικατάσταση των NaN τιμών με κενές συμβολοσειρές\n",
    "data2019['review'].fillna('', inplace=True)\n",
    "data2023['review'].fillna('', inplace=True)\n",
    "print(\"Done.\")"
   ]
  },
  {
   "cell_type": "code",
   "execution_count": 9,
   "id": "4091aa96-2a14-4296-a954-0a136de0e506",
   "metadata": {},
   "outputs": [],
   "source": [
    "# Φιλτράρουμε τις γραμμές με sentiment = LABEL_2\n",
    "sentiment_zero2019 = data2019[data2019['sentiment'] == \"LABEL_2\"]\n",
    "sentiment_zero2023 = data2023[data2023['sentiment'] == \"LABEL_2\"]"
   ]
  },
  {
   "cell_type": "code",
   "execution_count": 10,
   "id": "ddec00b3-880b-446c-a28e-6317b247d55c",
   "metadata": {},
   "outputs": [],
   "source": [
    "# Επιλέγουμε τυχαία το 50% από αυτές τις γραμμές\n",
    "sentiment_zero_sample2019 = sentiment_zero2019.sample(frac=0.6, random_state=1)\n",
    "sentiment_zero_sample2023 = sentiment_zero2023.sample(frac=0.6, random_state=1)"
   ]
  },
  {
   "cell_type": "code",
   "execution_count": 11,
   "id": "0d0058b7-71f1-4072-8388-19c283c2fcd0",
   "metadata": {},
   "outputs": [],
   "source": [
    "# Αφαιρούμε τις επιλεγμένες γραμμές από το αρχικό DataFrame\n",
    "data2019 = data2019.drop(sentiment_zero_sample2019.index)\n",
    "data2023 = data2023.drop(sentiment_zero_sample2023.index)"
   ]
  },
  {
   "cell_type": "code",
   "execution_count": 12,
   "id": "c6ec54ab-6455-48e7-94d0-47b1dee1fa4a",
   "metadata": {},
   "outputs": [],
   "source": [
    "for index, rows in data2019.iterrows():\n",
    "    if rows['sentiment'] == \"LABEL_2\":\n",
    "       data2019.at[index, 'sentiment'] = \"POSITIVE\"\n",
    "    elif rows['sentiment'] == \"LABEL_0\":\n",
    "        data2019.at[index, 'sentiment'] = \"NEGATIVE\"\n",
    "    else:\n",
    "        data2019.at[index, 'sentiment'] = \"NEUTRAL\"\n",
    "\n",
    "for index, rows in data2023.iterrows():\n",
    "    if rows['sentiment'] == \"LABEL_2\":\n",
    "       data2023.at[index, 'sentiment'] = \"POSITIVE\"\n",
    "    elif rows['sentiment'] == \"LABEL_0\":\n",
    "        data2023.at[index, 'sentiment'] = \"NEGATIVE\"\n",
    "    else:\n",
    "        data2023.at[index, 'sentiment'] = \"NEUTRAL\""
   ]
  },
  {
   "cell_type": "code",
   "execution_count": 25,
   "id": "08560e28-f90d-4fe2-b321-0dc3571475d2",
   "metadata": {},
   "outputs": [
    {
     "data": {
      "image/png": "[encoded data removed]",
      "text/plain": [
       "<Figure size 1000x600 with 1 Axes>"
      ]
     },
     "metadata": {},
     "output_type": "display_data"
    },
    {
     "data": {
      "image/png": "[encoded data removed]",
      "text/plain": [
       "<Figure size 1000x600 with 1 Axes>"
      ]
     },
     "metadata": {},
     "output_type": "display_data"
    }
   ],
   "source": [
    "import matplotlib.pyplot as plt\n",
    "\n",
    "# Συγκεντρώνουμε τα δεδομένα των συναισθημάτων\n",
    "sentiment_counts = data2019['sentiment'].value_counts()\n",
    "sentiment_counts23 = data2023['sentiment'].value_counts()\n",
    "\n",
    "# Δημιουργία ιστογράμματος 2019\n",
    "plt.figure(figsize=(10, 6))\n",
    "sentiment_counts.plot(kind='bar', color=['green', 'red', 'blue'])\n",
    "plt.title('Κατανομή Συναισθημάτων για το 2019')\n",
    "plt.xlabel('Συναίσθημα')\n",
    "plt.ylabel('Αριθμός Σχολίων')\n",
    "plt.xticks(rotation=0)\n",
    "plt.show()\n",
    "\n",
    "# Δημιουργία ιστογράμματος 2023\n",
    "plt.figure(figsize=(10, 6))\n",
    "sentiment_counts23.plot(kind='bar', color=['green', 'red', 'blue'])\n",
    "plt.title('Κατανομή Συναισθημάτων για το 2023')\n",
    "plt.xlabel('Συναίσθημα')\n",
    "plt.ylabel('Αριθμός Σχολίων')\n",
    "plt.xticks(rotation=0)\n",
    "plt.show()"
   ]
  },
  {
   "cell_type": "code",
   "execution_count": 14,
   "id": "63bf809c-dcc7-43cf-acb3-d336f3ded745",
   "metadata": {},
   "outputs": [
    {
     "name": "stdout",
     "output_type": "stream",
     "text": [
      "Done\n"
     ]
    }
   ],
   "source": [
    "from sklearn.model_selection import train_test_split\n",
    "# Διαχωρισμός σε train (80%) και test (20%) σύνολα\n",
    "train_data, test_data = train_test_split(data2019, test_size=0.2, random_state=42)\n",
    "\n",
    "# Αποθήκευση των νέων αρχείων\n",
    "train_data.to_csv('train.tsv', sep='\\t', index=False)\n",
    "test_data.to_csv('test.tsv', sep='\\t', index=False)\n",
    "print(\"Done\")"
   ]
  },
  {
   "cell_type": "code",
   "execution_count": 15,
   "id": "a72a9039-2e91-4edf-bbbb-9635e0b49b57",
   "metadata": {},
   "outputs": [
    {
     "name": "stdout",
     "output_type": "stream",
     "text": [
      "Done\n"
     ]
    }
   ],
   "source": [
    "from sklearn.feature_extraction.text import TfidfVectorizer\n",
    "\n",
    "# Υπολογισμός Tf-idf χαρακτηριστικών\n",
    "vectorizer = TfidfVectorizer(max_features=5000)\n",
    "X_train_tfidf = vectorizer.fit_transform(train_data['review'])\n",
    "X_test_tfidf = vectorizer.transform(test_data['review'])\n",
    "print(\"Done\")"
   ]
  },
  {
   "cell_type": "code",
   "execution_count": 16,
   "id": "442c8dbd-9ecd-4b97-bcef-b0c8d286ce49",
   "metadata": {},
   "outputs": [
    {
     "name": "stdout",
     "output_type": "stream",
     "text": [
      "Done\n"
     ]
    }
   ],
   "source": [
    "from sklearn.model_selection import train_test_split\n",
    "# Διαχωρισμός σε train (80%) και test (20%) σύνολα\n",
    "train_data, test_data = train_test_split(data2019, test_size=0.2, random_state=42)\n",
    "\n",
    "# Αποθήκευση των νέων αρχείων\n",
    "train_data.to_csv('train.tsv', sep='\\t', index=False)\n",
    "test_data.to_csv('test.tsv', sep='\\t', index=False)\n",
    "\n",
    "\n",
    "from gensim.models import Word2Vec\n",
    "import numpy as np\n",
    "\n",
    "# Προετοιμασία των δεδομένων για το Word2Vec\n",
    "sentences = [review.split() for review in train_data['review']]\n",
    "\n",
    "# Εκπαίδευση του μοντέλου Word2Vec\n",
    "w2v_model = Word2Vec(sentences, vector_size=100, window=5, min_count=1, workers=4)\n",
    "w2v_model.save('word2vec_model')\n",
    "print(\"Done\")"
   ]
  },
  {
   "cell_type": "code",
   "execution_count": 17,
   "id": "21966552-5df2-431d-acf9-1deb15ac4155",
   "metadata": {},
   "outputs": [],
   "source": [
    "# Λειτουργία για μετατροπή ενός review σε μέσο όρο των word embeddings του\n",
    "def get_average_word2vec(tokens_list, vector, generate_missing=False, k=100):\n",
    "    if len(tokens_list)<1:\n",
    "        return np.zeros(k)\n",
    "    vectorized = [vector[word] if word in vector else np.zeros(k) for word in tokens_list]\n",
    "    mean = np.mean(vectorized, axis=0)\n",
    "    return mean\n",
    "\n",
    "# Μετατροπή των reviews σε word embeddings\n",
    "X_train_w2v = np.array([get_average_word2vec(review.split(), w2v_model.wv) for review in train_data['review']])\n",
    "X_test_w2v = np.array([get_average_word2vec(review.split(), w2v_model.wv) for review in test_data['review']])\n",
    "\n",
    "# Οι ετικέτες\n",
    "y_train = train_data['sentiment']\n",
    "y_test = test_data['sentiment']"
   ]
  },
  {
   "cell_type": "code",
   "execution_count": 18,
   "id": "6a418add-8909-447b-81b6-d756b52b85a4",
   "metadata": {},
   "outputs": [],
   "source": [
    "import pickle\n",
    "\n",
    "# Αποθήκευση TF-IDF χαρακτηριστικών\n",
    "with open('X_train_tfidf.pkl', 'wb') as f:\n",
    "    pickle.dump(X_train_tfidf, f)\n",
    "with open('X_test_tfidf.pkl', 'wb') as f:\n",
    "    pickle.dump(X_test_tfidf, f)\n",
    "\n",
    "# Αποθήκευση Word2Vec χαρακτηριστικών\n",
    "with open('X_train_w2v.pkl', 'wb') as f:\n",
    "    pickle.dump(X_train_w2v, f)\n",
    "with open('X_test_w2v.pkl', 'wb') as f:\n",
    "    pickle.dump(X_test_w2v, f)\n",
    "\n",
    "# Αποθήκευση των ετικετών\n",
    "with open('y_train.pkl', 'wb') as f:\n",
    "    pickle.dump(y_train, f)\n",
    "with open('y_test.pkl', 'wb') as f:\n",
    "    pickle.dump(y_test, f)\n",
    "\n",
    "# Φόρτωση TF-IDF χαρακτηριστικών\n",
    "with open('X_train_tfidf.pkl', 'rb') as f:\n",
    "    X_train_tfidf = pickle.load(f)\n",
    "with open('X_test_tfidf.pkl', 'rb') as f:\n",
    "    X_test_tfidf = pickle.load(f)\n",
    "\n",
    "# Φόρτωση Word2Vec χαρακτηριστικών\n",
    "with open('X_train_w2v.pkl', 'rb') as f:\n",
    "    X_train_word2vec = pickle.load(f)\n",
    "with open('X_test_w2v.pkl', 'rb') as f:\n",
    "    X_test_word2vec = pickle.load(f)\n",
    "\n",
    "# Φόρτωση των ετικετών\n",
    "with open('y_train.pkl', 'rb') as f:\n",
    "    y_train = pickle.load(f)\n",
    "with open('y_test.pkl', 'rb') as f:\n",
    "    y_test = pickle.load(f)\n"
   ]
  },
  {
   "cell_type": "code",
   "execution_count": 19,
   "id": "026dc2a3-2d84-49c9-bce7-0f4fe51e32f6",
   "metadata": {},
   "outputs": [
    {
     "name": "stdout",
     "output_type": "stream",
     "text": [
      "SVM with TF-IDF accuracy: 0.916256157635468\n",
      "SVM with word embeddings accuracy: 0.8522167487684729\n",
      "Random Forests with TF-IDF accuracy: 0.9507389162561576\n",
      "Random Forests with word embeddings accuracy: 0.916256157635468\n",
      "KNN with TF-IDF accuracy: 0.35960591133004927\n",
      "KNN with word embeddings accuracy: 0.8866995073891626\n"
     ]
    }
   ],
   "source": [
    "from sklearn.svm import SVC\n",
    "from sklearn.ensemble import RandomForestClassifier\n",
    "from sklearn.neighbors import KNeighborsClassifier\n",
    "from sklearn.metrics import accuracy_score\n",
    "import pickle\n",
    "\n",
    "\n",
    "# Εκπαίδευση του ταξινομητή SVM με TF-IDF\n",
    "svm_tfidf = SVC()\n",
    "svm_tfidf.fit(X_train_tfidf, y_train)\n",
    "svm_tfidf_predictions = svm_tfidf.predict(X_test_tfidf)\n",
    "svm_tfidf_accuracy = accuracy_score(y_test, svm_tfidf_predictions)\n",
    "print(\"SVM with TF-IDF accuracy:\", svm_tfidf_accuracy)\n",
    "\n",
    "# Εκπαίδευση του ταξινομητή SVM με word embeddings\n",
    "svm_word2vec = SVC()\n",
    "svm_word2vec.fit(X_train_word2vec, y_train)\n",
    "svm_word2vec_predictions = svm_word2vec.predict(X_test_word2vec)\n",
    "svm_word2vec_accuracy = accuracy_score(y_test, svm_word2vec_predictions)\n",
    "print(\"SVM with word embeddings accuracy:\", svm_word2vec_accuracy)\n",
    "\n",
    "# Εκπαίδευση του ταξινομητή Random Forests με TF-IDF\n",
    "rf_tfidf = RandomForestClassifier()\n",
    "rf_tfidf.fit(X_train_tfidf, y_train)\n",
    "rf_tfidf_predictions = rf_tfidf.predict(X_test_tfidf)\n",
    "rf_tfidf_accuracy = accuracy_score(y_test, rf_tfidf_predictions)\n",
    "print(\"Random Forests with TF-IDF accuracy:\", rf_tfidf_accuracy)\n",
    "\n",
    "# Εκπαίδευση του ταξινομητή Random Forests με word embeddings\n",
    "rf_word2vec = RandomForestClassifier()\n",
    "rf_word2vec.fit(X_train_word2vec, y_train)\n",
    "rf_word2vec_predictions = rf_word2vec.predict(X_test_word2vec)\n",
    "rf_word2vec_accuracy = accuracy_score(y_test, rf_word2vec_predictions)\n",
    "print(\"Random Forests with word embeddings accuracy:\", rf_word2vec_accuracy)\n",
    "\n",
    "# Εκπαίδευση του ταξινομητή KNN με TF-IDF\n",
    "knn_tfidf = KNeighborsClassifier()\n",
    "knn_tfidf.fit(X_train_tfidf, y_train)\n",
    "knn_tfidf_predictions = knn_tfidf.predict(X_test_tfidf)\n",
    "knn_tfidf_accuracy = accuracy_score(y_test, knn_tfidf_predictions)\n",
    "print(\"KNN with TF-IDF accuracy:\", knn_tfidf_accuracy)\n",
    "\n",
    "# Εκπαίδευση του ταξινομητή KNN με word embeddings\n",
    "knn_word2vec = KNeighborsClassifier()\n",
    "knn_word2vec.fit(X_train_word2vec, y_train)\n",
    "knn_word2vec_predictions = knn_word2vec.predict(X_test_word2vec)\n",
    "knn_word2vec_accuracy = accuracy_score(y_test, knn_word2vec_predictions)\n",
    "print(\"KNN with word embeddings accuracy:\", knn_word2vec_accuracy)"
   ]
  },
  {
   "cell_type": "code",
   "execution_count": 20,
   "id": "1d2e5c78-6ecf-44f0-99a3-ecb39a9cecfd",
   "metadata": {},
   "outputs": [],
   "source": [
    "from sklearn.model_selection import cross_val_score, KFold\n",
    "from sklearn.metrics import precision_score, recall_score, f1_score\n",
    "import numpy as np\n",
    "import warnings\n",
    "from sklearn.exceptions import UndefinedMetricWarning\n",
    "# Απενεργοποίηση των προειδοποιήσεων ZeroDivisionWarning\n",
    "warnings.filterwarnings(\"ignore\", category=RuntimeWarning)\n",
    "warnings.filterwarnings(\"ignore\", category=UndefinedMetricWarning)\n",
    "\n",
    "# Δημιουργία συνάρτησης για αξιολόγηση με χρήση 10-fold Cross Validation\n",
    "def evaluate_with_cross_validation(model, X, y):\n",
    "    kfold = KFold(n_splits=10, shuffle=True, random_state=42)\n",
    "    accuracy_scores = cross_val_score(model, X, y, cv=kfold, scoring='accuracy')\n",
    "    precision_scores = cross_val_score(model, X, y, cv=kfold, scoring='precision_macro')\n",
    "    recall_scores = cross_val_score(model, X, y, cv=kfold, scoring='recall_macro')\n",
    "    f1_scores = cross_val_score(model, X, y, cv=kfold, scoring='f1_macro')\n",
    "\n",
    "\n",
    "    print(\"Mean Accuracy:\", accuracy_scores.mean())\n",
    "    print(\"Mean Precision:\", precision_scores.mean())\n",
    "    print(\"Mean Recall:\", recall_scores.mean())\n",
    "    print(\"Mean F-Measure:\", f1_scores.mean())\n"
   ]
  },
  {
   "cell_type": "code",
   "execution_count": 21,
   "id": "82bc6017-cfde-44a4-9359-c7b2008165f5",
   "metadata": {},
   "outputs": [
    {
     "name": "stdout",
     "output_type": "stream",
     "text": [
      "Evaluation with TF-IDF:\n",
      "SVM:\n",
      "Mean Accuracy: 0.9047222222222222\n",
      "Mean Precision: 0.7107256220226389\n",
      "Mean Recall: 0.6729069114471754\n",
      "Mean F-Measure: 0.6841625387951754\n",
      "Random Forests:\n",
      "Mean Accuracy: 0.9171296296296296\n",
      "Mean Precision: 0.7468454082578931\n",
      "Mean Recall: 0.7471378749025742\n",
      "Mean F-Measure: 0.7559330065093494\n",
      "KNN:\n",
      "Mean Accuracy: 0.3428858024691358\n",
      "Mean Precision: 0.43898855337340786\n",
      "Mean Recall: 0.47386021857110683\n",
      "Mean F-Measure: 0.30026510479824375\n",
      "\n",
      "Evaluation with Word Embeddings:\n",
      "SVM:\n",
      "Mean Accuracy: 0.8018981481481481\n",
      "Mean Precision: 0.633312228222162\n",
      "Mean Recall: 0.5637515008297561\n",
      "Mean F-Measure: 0.5747132551727832\n",
      "Random Forests:\n",
      "Mean Accuracy: 0.9146141975308643\n",
      "Mean Precision: 0.7912775050980148\n",
      "Mean Recall: 0.7562903536390879\n",
      "Mean F-Measure: 0.7685481679987621\n",
      "KNN:\n",
      "Mean Accuracy: 0.9059722222222222\n",
      "Mean Precision: 0.8194893760747719\n",
      "Mean Recall: 0.747662121926323\n",
      "Mean F-Measure: 0.7710168876779749\n"
     ]
    }
   ],
   "source": [
    "# Αξιολόγηση με TF-IDF\n",
    "print(\"Evaluation with TF-IDF:\")\n",
    "print(\"SVM:\")\n",
    "evaluate_with_cross_validation(svm_tfidf, X_train_tfidf, y_train)\n",
    "print(\"Random Forests:\")\n",
    "evaluate_with_cross_validation(rf_tfidf, X_train_tfidf, y_train)\n",
    "print(\"KNN:\")\n",
    "evaluate_with_cross_validation(knn_tfidf, X_train_tfidf, y_train)\n",
    "\n",
    "# Αξιολόγηση με word embeddings\n",
    "print(\"\\nEvaluation with Word Embeddings:\")\n",
    "print(\"SVM:\")\n",
    "evaluate_with_cross_validation(svm_word2vec, X_train_word2vec, y_train)\n",
    "print(\"Random Forests:\")\n",
    "evaluate_with_cross_validation(rf_word2vec, X_train_word2vec, y_train)\n",
    "print(\"KNN:\")\n",
    "evaluate_with_cross_validation(knn_word2vec, X_train_word2vec, y_train)\n",
    "# Επανενεργοποίηση των προειδοποιήσεων\n",
    "warnings.filterwarnings(\"default\", category=RuntimeWarning)\n",
    "warnings.filterwarnings(\"default\", category=UndefinedMetricWarning)\n"
   ]
  },
  {
   "cell_type": "code",
   "execution_count": 22,
   "id": "c0dc8c3a-ba63-4415-9541-e6d49f093580",
   "metadata": {},
   "outputs": [
    {
     "name": "stdout",
     "output_type": "stream",
     "text": [
      "done\n"
     ]
    }
   ],
   "source": [
    "from sklearn.metrics.pairwise import cosine_similarity\n",
    "\n",
    "\n",
    "# Συνάρτηση για τον υπολογισμό της ομοιότητας με cosine similarity\n",
    "def compute_similarity(word1, word2, model):\n",
    "    if word1 in model.wv and word2 in model.wv:\n",
    "        vec1 = model.wv[word1]\n",
    "        vec2 = model.wv[word2]\n",
    "        similarity = cosine_similarity([vec1], [vec2])[0][0]\n",
    "        return similarity\n",
    "    else:\n",
    "        return None\n",
    "\n",
    "\n",
    "# Συνάρτηση για υπολογισμό σημασιολογικής γειτονιάς και ομοιότητας\n",
    "def get_neighborhood_similarity(word, model, top_n=10):\n",
    "    if word in model.wv:\n",
    "        neighbors = model.wv.most_similar(word, topn=top_n)\n",
    "        return neighbors\n",
    "    else:\n",
    "        return None\n",
    "\n",
    "\n",
    "# Παράδειγμα υπολογισμού ομοιότητας γειτονιών\n",
    "def neighborhood_similarity(word1, word2, model, top_n=10):\n",
    "    neighborhood1 = get_neighborhood_similarity(word1, model, top_n)\n",
    "    neighborhood2 = get_neighborhood_similarity(word2, model, top_n)\n",
    "\n",
    "    if neighborhood1 and neighborhood2:\n",
    "        neighbors1 = [word for word, _ in neighborhood1]\n",
    "        neighbors2 = [word for word, _ in neighborhood2]\n",
    "\n",
    "        similarities = [compute_similarity(w1, w2, model) for w1 in neighbors1 for w2 in neighbors2 if\n",
    "                        w1 in model.wv and w2 in model.wv]\n",
    "        similarities = [sim for sim in similarities if sim is not None]\n",
    "\n",
    "        if similarities:\n",
    "            max_similarity = max(similarities)\n",
    "            mean_similarity = np.mean(similarities)\n",
    "            sum_squared_similarity = np.sum(np.square(similarities))\n",
    "            return {\n",
    "                'max_similarity': max_similarity,\n",
    "                'mean_similarity': mean_similarity,\n",
    "                'sum_squared_similarity': sum_squared_similarity\n",
    "            }\n",
    "        else:\n",
    "            return None\n",
    "    else:\n",
    "        return None\n",
    "print(\"done\")"
   ]
  },
  {
   "cell_type": "code",
   "execution_count": 23,
   "id": "6f5febbb-85b2-499b-8f2a-463a6eae8c1b",
   "metadata": {},
   "outputs": [
    {
     "name": "stdout",
     "output_type": "stream",
     "text": [
      "Neighborhood similarity between 'best' and 'great': {'max_similarity': 1.0, 'mean_similarity': 0.99762535, 'sum_squared_similarity': 99.525696}\n",
      "Semantic neighborhood of 'best': [('athens', 0.9971886277198792), ('stay', 0.9971630573272705), ('apartment', 0.9970465302467346), ('good', 0.9970335364341736), ('need', 0.9967724084854126), ('room', 0.9966791272163391), ('la', 0.9966157674789429), ('area', 0.99660325050354), ('host', 0.9965991973876953), ('great', 0.9965283274650574)]\n"
     ]
    }
   ],
   "source": [
    "# Παράδειγμα χρήσης\n",
    "word1 = 'best'\n",
    "word2 = 'great'\n",
    "neighborhood_sim = neighborhood_similarity(word1, word2, w2v_model)\n",
    "print(f\"Neighborhood similarity between '{word1}' and '{word2}': {neighborhood_sim}\")\n",
    "\n",
    "# Παρουσίαση παραδειγμάτων γειτονιάς\n",
    "word = 'best'\n",
    "neighborhood = get_neighborhood_similarity(word, w2v_model)\n",
    "print(f\"Semantic neighborhood of '{word}': {neighborhood}\")"
   ]
  },
  {
   "cell_type": "code",
   "execution_count": null,
   "id": "aa37b83d-67d9-421e-b830-cd48ccdd40c3",
   "metadata": {},
   "outputs": [],
   "source": []
  }
 ],
 "metadata": {
  "kernelspec": {
   "display_name": "Python 3 (ipykernel)",
   "language": "python",
   "name": "python3"
  },
  "language_info": {
   "codemirror_mode": {
    "name": "ipython",
    "version": 3
   },
   "file_extension": ".py",
   "mimetype": "text/x-python",
   "name": "python",
   "nbconvert_exporter": "python",
   "pygments_lexer": "ipython3",
   "version": "3.11.4"
  }
 },
 "nbformat": 4,
 "nbformat_minor": 5
}
